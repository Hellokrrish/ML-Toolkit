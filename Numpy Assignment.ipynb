{
 "cells": [
  {
   "cell_type": "markdown",
   "id": "b425ae3c-66fd-46ad-833a-8bd44d155b75",
   "metadata": {},
   "source": [
    "### 1. What is a Python library? Why do we use Python libraries?"
   ]
  },
  {
   "cell_type": "code",
   "execution_count": 1,
   "id": "7ff96446-bdd6-460d-95d2-57e6c8d42946",
   "metadata": {},
   "outputs": [],
   "source": [
    "import numpy # here numpy is a python library.\n",
    "# there are many libraries which are used to mor̥e efficient of the code."
   ]
  },
  {
   "cell_type": "markdown",
   "id": "e906958d-9318-4ce5-9cc2-fd3179cc1f3a",
   "metadata": {},
   "source": [
    "### 2. What is the difference between Numpy array and List?"
   ]
  },
  {
   "cell_type": "code",
   "execution_count": 4,
   "id": "d101f50b-77ef-461a-a07f-7d8e8a1d184f",
   "metadata": {},
   "outputs": [
    {
     "data": {
      "text/plain": [
       "array([1, 2, 3, 4, 5])"
      ]
     },
     "execution_count": 4,
     "metadata": {},
     "output_type": "execute_result"
    }
   ],
   "source": [
    "import numpy as np # import numpy.\n",
    "arr=np.array([1,2,3,4,5]) # numpy array is a faster than list which is used to store homogenious data. \n",
    "arr # that means numpy array strings have only contain strings."
   ]
  },
  {
   "cell_type": "code",
   "execution_count": 5,
   "id": "6ae7c8dc-d36d-4ebe-a2c2-8aeaef4358e8",
   "metadata": {},
   "outputs": [
    {
     "data": {
      "text/plain": [
       "[1, 2, 3, 4, 5]"
      ]
     },
     "execution_count": 5,
     "metadata": {},
     "output_type": "execute_result"
    }
   ],
   "source": [
    "a=[1,2,3,4,5]\n",
    "a # list is used to store heteroginious data that means list contains any datatypes. "
   ]
  },
  {
   "cell_type": "markdown",
   "id": "d4a3292c-a100-49ba-b558-a00c5613b5ca",
   "metadata": {},
   "source": [
    "### 3. Find the shape, size and dimension of the following array?\n",
    "[[1, 2, 3, 4]\n",
    "[5, 6, 7, 8],\n",
    "[9, 10, 11, 12]]"
   ]
  },
  {
   "cell_type": "code",
   "execution_count": 11,
   "id": "a6206139-e718-4302-b8a3-5d1981f15bbd",
   "metadata": {},
   "outputs": [
    {
     "data": {
      "text/plain": [
       "(3, 4)"
      ]
     },
     "execution_count": 11,
     "metadata": {},
     "output_type": "execute_result"
    }
   ],
   "source": [
    "import numpy as np\n",
    "arr=np.array([[1, 2, 3, 4],\n",
    "             [5, 6, 7, 8],\n",
    "             [9, 10, 11, 12]])\n",
    "arr.shape # shape of a array."
   ]
  },
  {
   "cell_type": "code",
   "execution_count": 12,
   "id": "0f06ead4-43c2-4609-8832-30c4ba8506e8",
   "metadata": {},
   "outputs": [
    {
     "data": {
      "text/plain": [
       "12"
      ]
     },
     "execution_count": 12,
     "metadata": {},
     "output_type": "execute_result"
    }
   ],
   "source": [
    "arr.size # size of a array."
   ]
  },
  {
   "cell_type": "code",
   "execution_count": 13,
   "id": "c56d716a-d973-4220-96b5-513f57b3139f",
   "metadata": {},
   "outputs": [
    {
     "data": {
      "text/plain": [
       "2"
      ]
     },
     "execution_count": 13,
     "metadata": {},
     "output_type": "execute_result"
    }
   ],
   "source": [
    "arr.ndim # dimension of a array."
   ]
  },
  {
   "cell_type": "markdown",
   "id": "a6a00b82-6760-43be-bdac-2fe47f1e08c7",
   "metadata": {},
   "source": [
    "### 4. Write python code to access the first row of the following array?\n",
    "[[1, 2, 3, 4]\n",
    "[5, 6, 7, 8],\n",
    "[9, 10, 11, 12]]"
   ]
  },
  {
   "cell_type": "code",
   "execution_count": 19,
   "id": "ea657407-7365-439d-80a9-6da6c1cc5250",
   "metadata": {},
   "outputs": [
    {
     "data": {
      "text/plain": [
       "array([1, 2, 3, 4])"
      ]
     },
     "execution_count": 19,
     "metadata": {},
     "output_type": "execute_result"
    }
   ],
   "source": [
    "import numpy as np\n",
    "arr=np.array([[1,2,3,4],\n",
    "              [5,6,7,8],\n",
    "              [9,10,11,12]])\n",
    "arr1=arr[0,:] # slicing.\n",
    "arr1 # print the result."
   ]
  },
  {
   "cell_type": "markdown",
   "id": "12de0709-539e-4327-b9b8-107b7884626c",
   "metadata": {},
   "source": [
    "### 5. How do you access the element at the third row and fourth column from the given numpy array?\n",
    "[[1, 2, 3, 4]\n",
    "[5, 6, 7, 8],\n",
    "[9, 10, 11, 12]]"
   ]
  },
  {
   "cell_type": "code",
   "execution_count": 38,
   "id": "c1309837-2455-412f-82e6-2352aa6a1097",
   "metadata": {},
   "outputs": [
    {
     "data": {
      "text/plain": [
       "12"
      ]
     },
     "execution_count": 38,
     "metadata": {},
     "output_type": "execute_result"
    }
   ],
   "source": [
    "import numpy as np\n",
    "arr=np.array([[1, 2, 3, 4],\n",
    "              [5, 6, 7, 8],\n",
    "              [9, 10, 11, 12]])\n",
    "arr1=arr[2,3]\n",
    "arr1 # access the third row and fourth column element."
   ]
  },
  {
   "cell_type": "markdown",
   "id": "da3865ba-60fb-41e6-b472-c9ebc15845c5",
   "metadata": {},
   "source": [
    "### 6. Write code to extract all odd-indexed elements from the given numpy array?\n",
    "[[1, 2, 3, 4]\n",
    "[5, 6, 7, 8],\n",
    "[9, 10, 11, 12]]"
   ]
  },
  {
   "cell_type": "code",
   "execution_count": 40,
   "id": "2fe38bec-af8d-4831-b59e-8017ac3dd40a",
   "metadata": {},
   "outputs": [
    {
     "data": {
      "text/plain": [
       "array([ 1,  3,  5,  7,  9, 11])"
      ]
     },
     "execution_count": 40,
     "metadata": {},
     "output_type": "execute_result"
    }
   ],
   "source": [
    "import numpy as np\n",
    "arr=np.array([[1, 2, 3, 4],\n",
    "              [5, 6, 7, 8],\n",
    "              [9, 10, 11, 12]])\n",
    "arr1=arr[arr%2!=0]\n",
    "arr1 # print the odd elements in a numpy array."
   ]
  },
  {
   "cell_type": "markdown",
   "id": "629f61b7-87d5-4a5b-b28b-c5a62e97e9c4",
   "metadata": {},
   "source": [
    "### 7. How can you generate a random 3x3 matrix with values between 0 and 1?"
   ]
  },
  {
   "cell_type": "code",
   "execution_count": 54,
   "id": "293802c3-14fe-4ce7-8bce-b789761d668e",
   "metadata": {},
   "outputs": [
    {
     "data": {
      "text/plain": [
       "array([[0.69294635, 0.18122879, 0.27460814],\n",
       "       [0.40566075, 0.35894306, 0.62622257],\n",
       "       [0.02387265, 0.67270418, 0.04862138]])"
      ]
     },
     "execution_count": 54,
     "metadata": {},
     "output_type": "execute_result"
    }
   ],
   "source": [
    "import numpy as np\n",
    "arr=np.random.random((3,3))\n",
    "arr # print the 3*3 matrix."
   ]
  },
  {
   "cell_type": "markdown",
   "id": "5f65ee78-fa23-4da3-a6ea-2b5e3e330e49",
   "metadata": {},
   "source": [
    "### 8. Describe the difference between np.random.rand and np.random.ran^n?"
   ]
  },
  {
   "cell_type": "code",
   "execution_count": 55,
   "id": "1697b25b-4449-4e91-b063-734d689c1cca",
   "metadata": {},
   "outputs": [
    {
     "data": {
      "text/plain": [
       "array([[0.86596227, 0.40875591, 0.69352571],\n",
       "       [0.6226435 , 0.43161869, 0.3223361 ]])"
      ]
     },
     "execution_count": 55,
     "metadata": {},
     "output_type": "execute_result"
    }
   ],
   "source": [
    "import numpy as np\n",
    "arr=np.random.rand(2,3)\n",
    "arr # print tyhe result."
   ]
  },
  {
   "cell_type": "code",
   "execution_count": 56,
   "id": "57e7444c-7689-44db-8af7-02a8b0fc374f",
   "metadata": {},
   "outputs": [
    {
     "data": {
      "text/plain": [
       "array([[-1.0619633 ,  0.00165667, -0.0803121 ],\n",
       "       [ 0.21203332, -0.26395218, -0.20758173]])"
      ]
     },
     "execution_count": 56,
     "metadata": {},
     "output_type": "execute_result"
    }
   ],
   "source": [
    "import numpy as np\n",
    "arr1=np.random.randn(2,3)\n",
    "arr1 # print the result."
   ]
  },
  {
   "cell_type": "markdown",
   "id": "e65cd1de-cf87-4f35-82cc-f3d1c3883434",
   "metadata": {},
   "source": [
    "### 9. Write code to increase the dimension of the following array?\n",
    "[[1, 2, 3, 4]\n",
    "[5, 6, 7, 8],\n",
    "[9, 10, 11, 12]]"
   ]
  },
  {
   "cell_type": "code",
   "execution_count": 58,
   "id": "c2e68482-c64f-47dc-b864-b7e0c9b9f38a",
   "metadata": {},
   "outputs": [
    {
     "data": {
      "text/plain": [
       "array([[[ 1,  2,  3,  4]],\n",
       "\n",
       "       [[ 5,  6,  7,  8]],\n",
       "\n",
       "       [[ 9, 10, 11, 12]]])"
      ]
     },
     "execution_count": 58,
     "metadata": {},
     "output_type": "execute_result"
    }
   ],
   "source": [
    "import numpy as np\n",
    "arr=np.array([[1, 2, 3, 4],\n",
    "              [5, 6, 7, 8],\n",
    "              [9, 10, 11, 12]])\n",
    "arr1=np.expand_dims(arr,axis=1)\n",
    "arr1 # print the rewsult."
   ]
  },
  {
   "cell_type": "markdown",
   "id": "2c480fab-89cf-45ea-a059-1cd0e496c7be",
   "metadata": {},
   "source": [
    "### 10. How to transpose the following array in NumPy?\n",
    "[[1, 2, 3, 4]\n",
    "[5, 6, 7, 8],\n",
    "[9, 10, 11, 12]]"
   ]
  },
  {
   "cell_type": "code",
   "execution_count": 63,
   "id": "83716d9b-c0de-41f6-8017-52fca00cf02e",
   "metadata": {},
   "outputs": [
    {
     "data": {
      "text/plain": [
       "array([[ 1,  5,  9],\n",
       "       [ 2,  6, 10],\n",
       "       [ 3,  7, 11],\n",
       "       [ 4,  8, 12]])"
      ]
     },
     "execution_count": 63,
     "metadata": {},
     "output_type": "execute_result"
    }
   ],
   "source": [
    "import numpy as np\n",
    "arr=np.array([[1, 2, 3, 4],\n",
    "              [5, 6, 7, 8],\n",
    "              [9, 10, 11, 12]])\n",
    "arr1=arr.T\n",
    "arr1 # print the result."
   ]
  },
  {
   "cell_type": "markdown",
   "id": "9208c3d5-ca2d-4dc7-ab54-3a5f580c7f45",
   "metadata": {},
   "source": [
    "### 11. Consider the following matrix:\n",
    "Matrix A2 [[1, 2, 3, 4] [5, 6, 7, 8],[9, 10, 11, 12]]\n",
    "Matrix B2 [[1, 2, 3, 4] [5, 6, 7, 8],[9, 10, 11, 12]]"
   ]
  },
  {
   "cell_type": "code",
   "execution_count": 5,
   "id": "b0a10869-708a-482b-b303-49164cfc7f42",
   "metadata": {},
   "outputs": [
    {
     "data": {
      "text/plain": [
       "array([[  1,   4,   9,  16],\n",
       "       [ 25,  36,  49,  64],\n",
       "       [ 81, 100, 121, 144]])"
      ]
     },
     "execution_count": 5,
     "metadata": {},
     "output_type": "execute_result"
    }
   ],
   "source": [
    "import numpy as np\n",
    "arr=np.array([[1, 2, 3, 4],\n",
    "              [5, 6, 7, 8],\n",
    "              [9, 10, 11, 12]])\n",
    "\n",
    "arr1=np.array([[1, 2, 3, 4],\n",
    "               [5, 6, 7, 8],\n",
    "               [9, 10, 11, 12]])\n",
    "\n",
    "# 1.Index wise multiplication:\n",
    "arr*arr1"
   ]
  },
  {
   "cell_type": "code",
   "execution_count": 8,
   "id": "9f665ea6-9a3d-45a9-9719-cf12e5bd8fb6",
   "metadata": {},
   "outputs": [
    {
     "name": "stdout",
     "output_type": "stream",
     "text": [
      "Matrix multiplication using np.dot():\n",
      "[[ 70  80  90]\n",
      " [158 184 210]\n",
      " [246 288 330]]\n",
      "\n",
      "Matrix multiplication using @ operator:\n",
      "[[ 70  80  90]\n",
      " [158 184 210]\n",
      " [246 288 330]]\n"
     ]
    }
   ],
   "source": [
    "# 2.Matix multiplication:\n",
    "import numpy as np\n",
    "\n",
    "# Define two matrices\n",
    "matrix1 = np.array([[1, 2, 3, 4],\n",
    "                    [5, 6, 7, 8],\n",
    "                    [9, 10, 11, 12]])\n",
    "\n",
    "matrix2 = np.array([[1, 2, 3],\n",
    "                    [4, 5, 6],\n",
    "                    [7, 8, 9],\n",
    "                    [10, 11, 12]])\n",
    "\n",
    "# Perform matrix multiplication using np.dot()\n",
    "result_dot = np.dot(matrix1, matrix2)\n",
    "# Perform matrix multiplication using @ operator (Python 3.5+)\n",
    "result_at_operator = matrix1 @ matrix2\n",
    "print(\"Matrix multiplication using np.dot():\")\n",
    "print(result_dot)\n",
    "print(\"\\nMatrix multiplication using @ operator:\")\n",
    "print(result_at_operator)"
   ]
  },
  {
   "cell_type": "code",
   "execution_count": 9,
   "id": "c8cd8559-f008-41de-8f5d-742b561d7ee2",
   "metadata": {},
   "outputs": [
    {
     "data": {
      "text/plain": [
       "array([[ 2,  4,  6,  8],\n",
       "       [10, 12, 14, 16],\n",
       "       [18, 20, 22, 24]])"
      ]
     },
     "execution_count": 9,
     "metadata": {},
     "output_type": "execute_result"
    }
   ],
   "source": [
    "# 3. Add both the matics:\n",
    "import numpy as np\n",
    "arr=np.array([[1, 2, 3, 4],\n",
    "              [5, 6, 7, 8],\n",
    "              [9, 10, 11, 12]])\n",
    "\n",
    "arr1=np.array([[1, 2, 3, 4],\n",
    "               [5, 6, 7, 8],\n",
    "               [9, 10, 11, 12]])\n",
    "arr+arr1"
   ]
  },
  {
   "cell_type": "code",
   "execution_count": 10,
   "id": "d96628c1-82e4-4803-9736-bf4a975a5f16",
   "metadata": {},
   "outputs": [
    {
     "data": {
      "text/plain": [
       "array([[0, 0, 0, 0],\n",
       "       [0, 0, 0, 0],\n",
       "       [0, 0, 0, 0]])"
      ]
     },
     "execution_count": 10,
     "metadata": {},
     "output_type": "execute_result"
    }
   ],
   "source": [
    "# 4.subtact matix B from A:\n",
    "import numpy as np\n",
    "arr=np.array([[1, 2, 3, 4],\n",
    "              [5, 6, 7, 8],\n",
    "              [9, 10, 11, 12]])\n",
    "\n",
    "arr1=np.array([[1, 2, 3, 4],\n",
    "               [5, 6, 7, 8],\n",
    "               [9, 10, 11, 12]])\n",
    "arr1-arr"
   ]
  },
  {
   "cell_type": "code",
   "execution_count": 11,
   "id": "4999cf60-a2ce-4a88-b4dd-af5df583ad32",
   "metadata": {},
   "outputs": [
    {
     "data": {
      "text/plain": [
       "array([[1., 1., 1., 1.],\n",
       "       [1., 1., 1., 1.],\n",
       "       [1., 1., 1., 1.]])"
      ]
     },
     "execution_count": 11,
     "metadata": {},
     "output_type": "execute_result"
    }
   ],
   "source": [
    "# 5.Divide Matix B by A:\n",
    "import numpy as np\n",
    "arr=np.array([[1, 2, 3, 4],\n",
    "              [5, 6, 7, 8],\n",
    "              [9, 10, 11, 12]])\n",
    "\n",
    "arr1=np.array([[1, 2, 3, 4],\n",
    "               [5, 6, 7, 8],\n",
    "               [9, 10, 11, 12]])\n",
    "arr1/arr"
   ]
  },
  {
   "cell_type": "markdown",
   "id": "ca379dff-9ee3-4a5a-b1bb-5f2b9fec7f5a",
   "metadata": {},
   "source": [
    "### 12. Which function in Numpy can be used to swap the byte order of an array?"
   ]
  },
  {
   "cell_type": "code",
   "execution_count": 15,
   "id": "fdba713f-98a1-478c-bc4e-906c5112890c",
   "metadata": {},
   "outputs": [
    {
     "name": "stdout",
     "output_type": "stream",
     "text": [
      "array:[1 2 3 4]\n",
      "swapped array:[16777216 33554432 50331648 67108864]\n"
     ]
    }
   ],
   "source": [
    "import numpy as np\n",
    "res=np.array([1,2,3,4],dtype=np.int32)\n",
    "result=res.byteswap()\n",
    "print(f\"array:{res}\")\n",
    "print(f\"swapped array:{result}\")"
   ]
  },
  {
   "cell_type": "markdown",
   "id": "0fa037b0-8f45-4012-aac6-50ed79b9914a",
   "metadata": {},
   "source": [
    "### 13. What is the significance of the np.linalg.inv function?"
   ]
  },
  {
   "cell_type": "code",
   "execution_count": 16,
   "id": "e7655c12-3fc5-40fa-a330-521da3bb50c7",
   "metadata": {},
   "outputs": [
    {
     "name": "stdout",
     "output_type": "stream",
     "text": [
      "[[1 2]\n",
      " [3 4]]\n",
      "[[-2.   1. ]\n",
      " [ 1.5 -0.5]]\n"
     ]
    }
   ],
   "source": [
    "import numpy as np\n",
    "a=np.array([[1,2],\n",
    "            [3,4]])\n",
    "a_inv=np.linalg.inv(a)\n",
    "print(a)\n",
    "print(a_inv) # print the ressult of a inverese of a matrix."
   ]
  },
  {
   "cell_type": "markdown",
   "id": "5b5e88e9-04b1-4f8e-93e4-cffa83cb7d32",
   "metadata": {},
   "source": [
    "### 14. What does the np.reshape function do, and how is it used?"
   ]
  },
  {
   "cell_type": "code",
   "execution_count": 19,
   "id": "ae33d497-e3f8-42de-ab25-9c55bf1e2c4c",
   "metadata": {},
   "outputs": [
    {
     "data": {
      "text/plain": [
       "array([[0, 1, 2],\n",
       "       [3, 4, 5]])"
      ]
     },
     "execution_count": 19,
     "metadata": {},
     "output_type": "execute_result"
    }
   ],
   "source": [
    "import numpy as np\n",
    "arr=np.arange(6)\n",
    "res=np.reshape(arr,(2,3))\n",
    "res"
   ]
  },
  {
   "cell_type": "markdown",
   "id": "9d913934-7506-44ed-8267-8fe5bd16ce33",
   "metadata": {},
   "source": [
    "### 15. What is broadcasting in Numpy?"
   ]
  },
  {
   "cell_type": "code",
   "execution_count": 22,
   "id": "c33706f5-3a27-46fd-8460-b3281df1b703",
   "metadata": {},
   "outputs": [
    {
     "data": {
      "text/plain": [
       "array([[11, 22, 33],\n",
       "       [14, 25, 36],\n",
       "       [17, 28, 39]])"
      ]
     },
     "execution_count": 22,
     "metadata": {},
     "output_type": "execute_result"
    }
   ],
   "source": [
    "import numpy as np\n",
    "arr=np.array([[1,2,3],\n",
    "              [4,5,6],\n",
    "              [7,8,9]])\n",
    "arr1=np.array([10,20,30])\n",
    "res=arr+arr1\n",
    "res"
   ]
  },
  {
   "cell_type": "code",
   "execution_count": null,
   "id": "bf1e01b6-7408-42b9-9289-67d3acde2f52",
   "metadata": {},
   "outputs": [],
   "source": []
  }
 ],
 "metadata": {
  "kernelspec": {
   "display_name": "Python 3 (ipykernel)",
   "language": "python",
   "name": "python3"
  },
  "language_info": {
   "codemirror_mode": {
    "name": "ipython",
    "version": 3
   },
   "file_extension": ".py",
   "mimetype": "text/x-python",
   "name": "python",
   "nbconvert_exporter": "python",
   "pygments_lexer": "ipython3",
   "version": "3.10.8"
  }
 },
 "nbformat": 4,
 "nbformat_minor": 5
}
